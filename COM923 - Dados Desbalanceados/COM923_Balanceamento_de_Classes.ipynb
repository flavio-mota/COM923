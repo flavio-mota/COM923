{
  "nbformat": 4,
  "nbformat_minor": 0,
  "metadata": {
    "colab": {
      "provenance": []
    },
    "kernelspec": {
      "name": "python3",
      "display_name": "Python 3"
    },
    "language_info": {
      "name": "python"
    }
  },
  "cells": [
    {
      "cell_type": "markdown",
      "source": [
        "# <span style=\"color:#336699\">Mineração de Dados Aplicada - Balanceamento de Classes</span>\n",
        "<hr style=\"border:2px solid #0077b9;\">\n",
        "\n",
        "<br/>\n",
        "\n",
        "<div style=\"text-align: center;font-size: 90%;\">\n",
        "    Autores:<br/>\n",
        "    Flávio Belizário da Silva Mota¹<br/>\n",
        "    Vanessa Cristina Oliveira de Souza²\n",
        "    <br/><br/>\n",
        "    ¹Instituto Nacional de Pesquisas Espaciais (INPE) <br/>\n",
        "    ²Universidade Federal de Itajubá (UNIFEI)\n",
        "    <br/>\n",
        "    <br/>\n",
        "    Contato: <a href=\"mailto:flavio.belizario.mota@gmail.com\">flavio.belizario.mota@gmail.com</a>\n",
        "    <br/>\n",
        "</div>\n",
        "\n",
        "<br/>\n",
        "\n",
        "<div style=\"text-align: justify;  margin-left: 25%; margin-right: 25%;\">\n",
        "<b>Objetivo.</b> Esse caderno Jupyter tem como objetivo apresentar métodos práticos de balanceamento de classes com os algoritmos SMOTE e Near Miss.\n",
        "</div>"
      ],
      "metadata": {
        "id": "NOMlcSsmtJGZ"
      }
    },
    {
      "cell_type": "markdown",
      "source": [
        "# Trabalhando com dados desbalanceados\n",
        "<hr style=\"border:2px solid #0077b9;\">"
      ],
      "metadata": {
        "id": "62kF03yktcTt"
      }
    },
    {
      "cell_type": "markdown",
      "source": [
        "Na área do Aprendizado de Máquina e da Ciência de Dados muitas vezes nos deparamos com um termo chamado Desbalanceamento de Dados, que geralmente acontece quando as observações (amostras) em uma das classes são muito maiores ou menores do que as outras classes. Como os algoritmos de Aprendizado de Máquina tendem a aumentar a acurácia através da redução do erro, eles não consideram a distribuição das classes. Este problema acontece com frequência em exemplos como Detecção de Fraudes, Detecção de Anomalias, Reconhecimento Facial, etc.\n",
        "\n",
        "Técnicas padrão de Aprendizado de Máquina, como Árvores de Decisão e Regressão Logística, têm um viés para a classe majoritária (maior quantidade) e tendem a ignorar a classe minoritária. Eles tendem apenas a prever a classe majoritária, portanto, tendo um grande erro de classificação da classe minoritária em comparação com a classe majoritária. Em palavras mais técnicas, se tivermos uma distribuição de dados desbalanceada em nosso conjunto de dados, nosso modelo se tornará mais propenso ao caso em que a classe minoritária tem uma taxa de revocação insignificante ou muito menor.\n",
        "\n",
        "Existem principalmente 2 algoritmos que são amplamente utilizados para lidar com a distribuição de classes desbalanceadas:\n",
        "\n",
        "1. SMOTE\n",
        "2. NearMiss"
      ],
      "metadata": {
        "id": "BBUlyV7rtkHd"
      }
    },
    {
      "cell_type": "markdown",
      "source": [
        "## SMOTE\n",
        "<hr style=\"border:2px solid #0077b9;\">"
      ],
      "metadata": {
        "id": "W8h5cbhXv0nD"
      }
    },
    {
      "cell_type": "markdown",
      "source": [
        "SMOTE (synthetic minority oversampling technique) é um dos métodos de sobreamostragem mais comumente usados para resolver o problema de desbalanceamento.\n",
        "Ele visa equilibrar a distribuição de classes aumentando de forma aleatória os exemplos das classes minoritárias, replicando-os.\n",
        "O SMOTE sintetiza novas instâncias minoritárias entre instâncias as minoritárias existentes, gerando registros virtuais por interpolação linear para a classe minoritária. Esses registros sintéticos são gerados selecionando aleatoriamente um ou mais dos k vizinhos mais próximos para cada exemplo na classe minoritária. Após o processo de sobreamostragem, os dados são reconstruídos e diversos modelos de classificação podem ser aplicados para os dados processados.\n",
        "\n",
        "Vamos ver um exemplo:"
      ],
      "metadata": {
        "id": "5hZ93Dn3wGQz"
      }
    },
    {
      "cell_type": "code",
      "source": [
        "from collections import Counter\n",
        "from sklearn.datasets import make_classification\n",
        "from matplotlib import pyplot\n",
        "from numpy import where\n",
        "\n",
        "# Cria o conjunto de dados\n",
        "X, y = make_classification(n_samples=10000, n_features=2, n_redundant=0,\n",
        "\tn_clusters_per_class=1, weights=[0.99], flip_y=0, random_state=1)\n",
        "\n",
        "# Conta as ocorrências de cada classe\n",
        "counter = Counter(y)\n",
        "print(counter)\n",
        "\n",
        "# Plota os dados\n",
        "for label, _ in counter.items():\n",
        "\trow_ix = where(y == label)[0]\n",
        "\tpyplot.scatter(X[row_ix, 0], X[row_ix, 1], label=str(label))\n",
        "pyplot.legend()\n",
        "pyplot.show()"
      ],
      "metadata": {
        "colab": {
          "base_uri": "https://localhost:8080/",
          "height": 283
        },
        "id": "6kzrRia30qRj",
        "outputId": "208d15e2-2d5d-4855-d523-7cc646828828"
      },
      "execution_count": 1,
      "outputs": [
        {
          "output_type": "stream",
          "name": "stdout",
          "text": [
            "Counter({0: 9900, 1: 100})\n"
          ]
        },
        {
          "output_type": "display_data",
          "data": {
            "text/plain": [
              "<Figure size 432x288 with 1 Axes>"
            ],
            "image/png": "[encoded data removed]"
          },
          "metadata": {
            "needs_background": "light"
          }
        }
      ]
    },
    {
      "cell_type": "markdown",
      "source": [
        "Podemos notar muito mais ocorrências da classe 0 do que da classe 1. Vamos tentar classificar esse conjunto:"
      ],
      "metadata": {
        "id": "6b9JHi1J1HbW"
      }
    },
    {
      "cell_type": "code",
      "source": [
        "from sklearn.model_selection import train_test_split\n",
        "  \n",
        "# Separando em treinamento e teste (70/30)\n",
        "X_train, X_test, y_train, y_test = train_test_split(X, y, test_size = 0.3, random_state = 0)\n",
        "  \n",
        "# Número de registros em cada dataset\n",
        "print(\"Nº de registros no conjunto X_train: \", X_train.shape)\n",
        "print(\"Nº de registros no conjunto y_train: \", y_train.shape)\n",
        "print(\"Nº de registros no conjunto X_test: \", X_test.shape)\n",
        "print(\"Nº de registros no conjunto y_test: \", y_test.shape)"
      ],
      "metadata": {
        "colab": {
          "base_uri": "https://localhost:8080/"
        },
        "id": "jvHnTb9r0vfq",
        "outputId": "8e49bf38-eb37-4355-bb45-3fee4ac46baf"
      },
      "execution_count": 2,
      "outputs": [
        {
          "output_type": "stream",
          "name": "stdout",
          "text": [
            "Nº de registros no conjunto X_train:  (7000, 2)\n",
            "Nº de registros no conjunto y_train:  (7000,)\n",
            "Nº de registros no conjunto X_test:  (3000, 2)\n",
            "Nº de registros no conjunto y_test:  (3000,)\n"
          ]
        }
      ]
    },
    {
      "cell_type": "markdown",
      "source": [
        "Classificando:"
      ],
      "metadata": {
        "id": "DrGBXP0h1ucw"
      }
    },
    {
      "cell_type": "code",
      "source": [
        "from sklearn.linear_model import LogisticRegression\n",
        "\n",
        "from sklearn.metrics import classification_report\n",
        "\n",
        "# Regressão Logística\n",
        "lr = LogisticRegression()\n",
        "  \n",
        "# treinando o modelo\n",
        "lr.fit(X_train, y_train.ravel())\n",
        "  \n",
        "predictions = lr.predict(X_test)\n",
        "  \n",
        "# exibindo o relatório de classificação\n",
        "print(classification_report(y_test, predictions))"
      ],
      "metadata": {
        "colab": {
          "base_uri": "https://localhost:8080/"
        },
        "id": "_0RUH7Tn1qbD",
        "outputId": "005e455a-cf3c-4f68-ce9b-7ce3040a1079"
      },
      "execution_count": 3,
      "outputs": [
        {
          "output_type": "stream",
          "name": "stdout",
          "text": [
            "              precision    recall  f1-score   support\n",
            "\n",
            "           0       1.00      1.00      1.00      2977\n",
            "           1       1.00      0.43      0.61        23\n",
            "\n",
            "    accuracy                           1.00      3000\n",
            "   macro avg       1.00      0.72      0.80      3000\n",
            "weighted avg       1.00      1.00      0.99      3000\n",
            "\n"
          ]
        }
      ]
    },
    {
      "cell_type": "markdown",
      "source": [
        "A acurácia desse modelo chega a 100%, mas você notou algo estranho?\n",
        "O recall da classe minoritária é muito menor. Isso prova que o modelo é mais tendencioso para a classe majoritária. Então, isso prova que este não é o melhor modelo.\n",
        "Agora, aplicaremos o SMOTE e vamos verificar os resultados para acurácia e  recall:"
      ],
      "metadata": {
        "id": "pf4lsSrC2NmQ"
      }
    },
    {
      "cell_type": "code",
      "source": [
        "print(\"Classe 1 antes da sobreamostragem: {}\".format(sum(y == 1)))\n",
        "print(\"Classe 0 antes da sobreamostragem: {} \\n\".format(sum(y == 0)))\n",
        "  \n",
        "# Importando o SMOTE da biblioteca imblearn\n",
        "from imblearn.over_sampling import SMOTE\n",
        "sm = SMOTE(random_state = 42)\n",
        "X_res, y_res = sm.fit_resample(X, y.ravel())\n",
        "\n",
        "X_train_res, X_test_res, y_train_res, y_test_res = train_test_split(X_res, y_res, test_size = 0.3, random_state = 0)\n",
        "  \n",
        "print('O formato dos dados de treinamento depois da sobreamostragem: {}'.format(X_train_res.shape))\n",
        "print('O formato dos rótulos de treinamento depois da sobreamostragem: {} \\n'.format(y_train_res.shape))\n",
        "  \n",
        "print(\"Classe 1 depois da sobreamostragem: {}\".format(sum(y_res == 1)))\n",
        "print(\"Classe 0 depois da sobreamostragem: {}\".format(sum(y_res == 0)))\n",
        "counter = Counter(y_res)\n",
        "for label, _ in counter.items():\n",
        "\trow_ix = where(y_res == label)[0]\n",
        "\tpyplot.scatter(X_res[row_ix, 0], X_res[row_ix, 1], label=str(label))\n",
        "pyplot.legend()\n",
        "pyplot.show()"
      ],
      "metadata": {
        "colab": {
          "base_uri": "https://localhost:8080/",
          "height": 408
        },
        "id": "2Vrbfg4y2Dwu",
        "outputId": "c4136c6e-59c9-4b4e-e63d-2cf778991581"
      },
      "execution_count": 4,
      "outputs": [
        {
          "output_type": "stream",
          "name": "stdout",
          "text": [
            "Classe 1 antes da sobreamostragem: 100\n",
            "Classe 0 antes da sobreamostragem: 9900 \n",
            "\n",
            "O formato dos dados de treinamento depois da sobreamostragem: (13860, 2)\n",
            "O formato dos rótulos de treinamento depois da sobreamostragem: (13860,) \n",
            "\n",
            "Classe 1 depois da sobreamostragem: 9900\n",
            "Classe 0 depois da sobreamostragem: 9900\n"
          ]
        },
        {
          "output_type": "display_data",
          "data": {
            "text/plain": [
              "<Figure size 432x288 with 1 Axes>"
            ],
            "image/png": "[encoded data removed]"
          },
          "metadata": {
            "needs_background": "light"
          }
        }
      ]
    },
    {
      "cell_type": "markdown",
      "source": [
        "O que o SMOTE fez foi aumentar as instâncias da classe minoritária e as tornou igual à classe majoritária. Agora vamos ver os resultados da acurácia e recall após a aplicação do algoritmo SMOTE:"
      ],
      "metadata": {
        "id": "UaoMca8G33xd"
      }
    },
    {
      "cell_type": "code",
      "source": [
        "lr1 = LogisticRegression()\n",
        "lr1.fit(X_train_res, y_train_res.ravel())\n",
        "predictions = lr1.predict(X_test_res)\n",
        "  \n",
        "print(classification_report(y_test_res, predictions))"
      ],
      "metadata": {
        "colab": {
          "base_uri": "https://localhost:8080/"
        },
        "id": "r18GuY492nN4",
        "outputId": "4e148336-7f73-4a0b-c3ba-c4d98c745ded"
      },
      "execution_count": 5,
      "outputs": [
        {
          "output_type": "stream",
          "name": "stdout",
          "text": [
            "              precision    recall  f1-score   support\n",
            "\n",
            "           0       0.90      0.92      0.91      2973\n",
            "           1       0.92      0.90      0.91      2967\n",
            "\n",
            "    accuracy                           0.91      5940\n",
            "   macro avg       0.91      0.91      0.91      5940\n",
            "weighted avg       0.91      0.91      0.91      5940\n",
            "\n"
          ]
        }
      ]
    },
    {
      "cell_type": "markdown",
      "source": [
        "A acurácia foi reduzida para 91% em comparação com o modelo anterior, mas o valor de recall da classe minoritária também melhorou para 90%. Este é um bom modelo em comparação com o anterior. \n",
        "\n",
        "\n",
        "Agora, vamos aplicar a técnica NearMiss para subamostrar a classe majoritária e ver seus resultados de acurácia e recall."
      ],
      "metadata": {
        "id": "sqxViIAD5Qti"
      }
    },
    {
      "cell_type": "markdown",
      "source": [
        "## NearMiss\n",
        "<hr style=\"border:2px solid #0077b9;\">"
      ],
      "metadata": {
        "id": "_BzVjqil5f1l"
      }
    },
    {
      "cell_type": "markdown",
      "source": [
        "O NearMiss é uma técnica de subamostragem que visa equilibrar a distribuição de classes eliminando de forma aleatória exemplos das classes majoritárias. Quando instâncias de duas classes diferentes estão muito próximas uma da outra, são removidas as instâncias da classe majoritária para aumentar os espaços entre as duas classes. Isso ajuda no processo de classificação.\n",
        "Para evitar problemas de perda de informação na maioria das técnicas de subamostragem, métodos de vizinhança são amplamente utilizados."
      ],
      "metadata": {
        "id": "CbH6VDjy5lVr"
      }
    },
    {
      "cell_type": "code",
      "source": [
        "print(\"Classe 1 antes da subamostragem: {}\".format(sum(y == 1)))\n",
        "print(\"Classe 0 antes da subamostragem': {} \\n\".format(sum(y_train == 0)))\n",
        "  \n",
        "# Importando o NearMiss da biblioteca imblearn\n",
        "from imblearn.under_sampling import NearMiss\n",
        "nr = NearMiss()\n",
        "  \n",
        "X_miss, y_miss = nr.fit_resample(X, y.ravel())\n",
        "\n",
        "X_train_miss, X_test_miss, y_train_miss, y_test_miss = train_test_split(X_miss, y_miss, test_size = 0.3, random_state = 0)\n",
        "  \n",
        "print('O formato dos dados de treinamento depois da subamostragem: {}'.format(X_train_miss.shape))\n",
        "print('O formato dos rótulos de treinamento depois da subamostragem: {} \\n'.format(y_train_miss.shape))\n",
        "  \n",
        "print(\"Classe 1 depois da subamostragem: {}\".format(sum(y_miss == 1)))\n",
        "print(\"Classe 0 depois da subamostragem: {}\".format(sum(y_miss == 0)))\n",
        "counter = Counter(y_miss)\n",
        "for label, _ in counter.items():\n",
        "\trow_ix = where(y_miss == label)[0]\n",
        "\tpyplot.scatter(X_miss[row_ix, 0], X_miss[row_ix, 1], label=str(label))\n",
        "pyplot.legend()\n",
        "pyplot.show()"
      ],
      "metadata": {
        "colab": {
          "base_uri": "https://localhost:8080/",
          "height": 408
        },
        "id": "zwkes-a74VD8",
        "outputId": "bc2a6895-8027-41b5-d1bc-4e1cb14b9f8e"
      },
      "execution_count": 6,
      "outputs": [
        {
          "output_type": "stream",
          "name": "stdout",
          "text": [
            "Classe 1 antes da subamostragem: 100\n",
            "Classe 0 antes da subamostragem': 6923 \n",
            "\n",
            "O formato dos dados de treinamento depois da subamostragem: (140, 2)\n",
            "O formato dos rótulos de treinamento depois da subamostragem: (140,) \n",
            "\n",
            "Classe 1 depois da subamostragem: 100\n",
            "Classe 0 depois da subamostragem: 100\n"
          ]
        },
        {
          "output_type": "display_data",
          "data": {
            "text/plain": [
              "<Figure size 432x288 with 1 Axes>"
            ],
            "image/png": "[encoded data removed]"
          },
          "metadata": {
            "needs_background": "light"
          }
        }
      ]
    },
    {
      "cell_type": "markdown",
      "source": [
        "O algoritmo NearMiss subamostra as instâncias majoritárias e as tornam iguais à classe minoritária. Agora vamos ver os resultados da acurácia e recall após a aplicação do algoritmo:\n"
      ],
      "metadata": {
        "id": "AljRLNgq6-Px"
      }
    },
    {
      "cell_type": "code",
      "source": [
        "lr2 = LogisticRegression()\n",
        "lr2.fit(X_train_miss, y_train_miss.ravel())\n",
        "predictions = lr2.predict(X_test_miss)\n",
        "  \n",
        "print(classification_report(y_test_miss, predictions))"
      ],
      "metadata": {
        "colab": {
          "base_uri": "https://localhost:8080/"
        },
        "id": "BwwruKYD61oh",
        "outputId": "1a440124-24dd-4f9f-849e-d74541ad21cb"
      },
      "execution_count": 7,
      "outputs": [
        {
          "output_type": "stream",
          "name": "stdout",
          "text": [
            "              precision    recall  f1-score   support\n",
            "\n",
            "           0       0.74      0.86      0.79        29\n",
            "           1       0.85      0.71      0.77        31\n",
            "\n",
            "    accuracy                           0.78        60\n",
            "   macro avg       0.79      0.79      0.78        60\n",
            "weighted avg       0.79      0.78      0.78        60\n",
            "\n"
          ]
        }
      ]
    },
    {
      "cell_type": "markdown",
      "source": [
        "Com o NearMiss a acurácia foi reduzida para 78% em comparação com o primeiro modelo, mas o valor de recall da classe minoritária melhorou para 71%. Aqui é interessante notar uma queda no recall da classe anteriormente majoritária para 86%."
      ],
      "metadata": {
        "id": "w1LUAvJ87rBZ"
      }
    },
    {
      "cell_type": "markdown",
      "source": [
        "## Referências"
      ],
      "metadata": {
        "id": "lIo9ccRA9t1h"
      }
    },
    {
      "cell_type": "markdown",
      "source": [
        "[Biblioteca imblearn](https://imbalanced-learn.org/stable/)\n"
      ],
      "metadata": {
        "id": "kNkllu0e9ya2"
      }
    }
  ]
}